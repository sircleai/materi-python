{
 "cells": [
  {
   "cell_type": "markdown",
   "metadata": {},
   "source": [
    "# Input dan Output"
   ]
  },
  {
   "cell_type": "markdown",
   "metadata": {},
   "source": [
    "Di python3, untuk melakukan input kita dapat menggunakan fungsi input() dan untuk outputnya dengan fungsi print()"
   ]
  },
  {
   "cell_type": "code",
   "execution_count": 1,
   "metadata": {},
   "outputs": [
    {
     "name": "stdout",
     "output_type": "stream",
     "text": [
      "Jerry\n",
      "Salam kenal, Jerry\n"
     ]
    }
   ],
   "source": [
    "nama = input()\n",
    "print(\"Salam kenal, \" + nama)"
   ]
  },
  {
   "cell_type": "markdown",
   "metadata": {},
   "source": [
    "Input didalam python3 dibaca dalam tipe data string, untuk mengubahnya menjadi tipe data lain kita dapat menggunakan fungsi int(), float(), bool()"
   ]
  },
  {
   "cell_type": "code",
   "execution_count": 7,
   "metadata": {},
   "outputs": [
    {
     "name": "stdout",
     "output_type": "stream",
     "text": [
      "Aku\n",
      "22\n",
      "3.14159\n",
      "0\n",
      "Aku\n",
      "22\n",
      "3.14159\n",
      "False\n"
     ]
    }
   ],
   "source": [
    "huruf = input()\n",
    "angkabulat = int(input())\n",
    "angkareal = float(input())\n",
    "logika = bool(int(input()))\n",
    "print(huruf)\n",
    "print(angkabulat)\n",
    "print(angkareal)\n",
    "print(logika)"
   ]
  },
  {
   "cell_type": "markdown",
   "metadata": {},
   "source": [
    "# Operasi di python"
   ]
  },
  {
   "cell_type": "markdown",
   "metadata": {},
   "source": [
    "## Operasi aritmatika"
   ]
  },
  {
   "cell_type": "markdown",
   "metadata": {},
   "source": [
    "Operasi dasar aritmatika di python adalah penjumlahan, pengurangan, perkalian, pembagian, modulo, serta eksponen, untuk operasi lainnya kita dapat menggunakan library numpy atau math"
   ]
  },
  {
   "cell_type": "code",
   "execution_count": 22,
   "metadata": {},
   "outputs": [
    {
     "name": "stdout",
     "output_type": "stream",
     "text": [
      "18 2 80 1.25 1 2 100000000\n"
     ]
    }
   ],
   "source": [
    "a = 10\n",
    "b = 8\n",
    "ini = a + b #Penjumlahan\n",
    "itu = a - b #Pengurangan\n",
    "hehe = a * b #Perkalian\n",
    "huhu = a / b #Pembagian float\n",
    "hoho = a // b #pembagian integer (div)\n",
    "lol = a % b #modulo / Sisa bagi\n",
    "lul = a**b #eksponen\n",
    "print(ini, itu, hehe, huhu, hoho, lol, lul)"
   ]
  },
  {
   "cell_type": "markdown",
   "metadata": {},
   "source": [
    "## Operasi Boolean"
   ]
  },
  {
   "cell_type": "markdown",
   "metadata": {},
   "source": [
    "Operasi dasar boolean di python 3"
   ]
  },
  {
   "cell_type": "code",
   "execution_count": 23,
   "metadata": {},
   "outputs": [
    {
     "name": "stdout",
     "output_type": "stream",
     "text": [
      "True False False True True True\n"
     ]
    }
   ],
   "source": [
    "a = True\n",
    "b = False\n",
    "c = a and b #AND\n",
    "d = a or b #OR\n",
    "e = a ^ b #XOR\n",
    "f = not(a and b) #NAND\n",
    "print(a,b,c,d,e,f)"
   ]
  },
  {
   "cell_type": "markdown",
   "metadata": {},
   "source": [
    "## Konversi Boolean -> Angka dan kebalikannya"
   ]
  },
  {
   "cell_type": "code",
   "execution_count": 26,
   "metadata": {},
   "outputs": [
    {
     "name": "stdout",
     "output_type": "stream",
     "text": [
      "True 1 False\n"
     ]
    }
   ],
   "source": [
    "a = True\n",
    "b = a * 1 #boolean -> angka\n",
    "c = bool(b-1) #angka -> boolean\n",
    "print(a,b,c)"
   ]
  },
  {
   "cell_type": "markdown",
   "metadata": {},
   "source": [
    "# Percabangan"
   ]
  },
  {
   "cell_type": "markdown",
   "metadata": {},
   "source": [
    "Untuk percabangan, python3 menggunakan fungsi if, elif, dan else"
   ]
  },
  {
   "cell_type": "code",
   "execution_count": 8,
   "metadata": {},
   "outputs": [
    {
     "name": "stdout",
     "output_type": "stream",
     "text": [
      "Dia\n"
     ]
    }
   ],
   "source": [
    "lol = 12\n",
    "if lol > 12:\n",
    "    print(\"Aku\")\n",
    "elif lol == 12:\n",
    "    print(\"Dia\")\n",
    "else:\n",
    "    print(\"Kamu\")"
   ]
  },
  {
   "cell_type": "markdown",
   "metadata": {},
   "source": [
    "# Perulangan"
   ]
  },
  {
   "cell_type": "markdown",
   "metadata": {},
   "source": [
    "Perulangan di python yang biasa kita gunakan adalah for dan while"
   ]
  },
  {
   "cell_type": "markdown",
   "metadata": {},
   "source": [
    "Contoh penerapan for untuk menulis angka 1..10"
   ]
  },
  {
   "cell_type": "code",
   "execution_count": 10,
   "metadata": {},
   "outputs": [
    {
     "name": "stdout",
     "output_type": "stream",
     "text": [
      "12345678910"
     ]
    }
   ],
   "source": [
    "for i in range(1,11,1):\n",
    "    print(i,end=\"\")"
   ]
  },
  {
   "cell_type": "markdown",
   "metadata": {},
   "source": [
    "Dengan parameter for dengan sebagai berikut (index awal, index akhir, step)"
   ]
  },
  {
   "cell_type": "markdown",
   "metadata": {},
   "source": [
    "Contoh penerapan for untuk menulis angka 50..45"
   ]
  },
  {
   "cell_type": "code",
   "execution_count": 12,
   "metadata": {},
   "outputs": [
    {
     "name": "stdout",
     "output_type": "stream",
     "text": [
      "50\n",
      "49\n",
      "48\n",
      "47\n",
      "46\n",
      "45\n"
     ]
    }
   ],
   "source": [
    "for i in range(50,44,-1):\n",
    "    print(i)"
   ]
  },
  {
   "cell_type": "markdown",
   "metadata": {},
   "source": [
    "Fungsi end=\"\" digunakan untuk mengeprint sejajar"
   ]
  },
  {
   "cell_type": "markdown",
   "metadata": {},
   "source": [
    "Berikut contoh untuk mengeprint setengah segitiga dengan for"
   ]
  },
  {
   "cell_type": "code",
   "execution_count": 33,
   "metadata": {},
   "outputs": [
    {
     "name": "stdout",
     "output_type": "stream",
     "text": [
      "\n",
      "*\n",
      "**\n",
      "***\n",
      "****\n"
     ]
    }
   ],
   "source": [
    "hehe = '*'\n",
    "n = 5\n",
    "for i in range(n):\n",
    "    print(hehe*i)"
   ]
  },
  {
   "cell_type": "markdown",
   "metadata": {},
   "source": [
    "Contoh penggunaan while"
   ]
  },
  {
   "cell_type": "code",
   "execution_count": 34,
   "metadata": {},
   "outputs": [
    {
     "name": "stdout",
     "output_type": "stream",
     "text": [
      "5\n",
      "3\n",
      "1\n"
     ]
    }
   ],
   "source": [
    "n = 5\n",
    "while(n>0):\n",
    "    print(n)\n",
    "    n-=2"
   ]
  },
  {
   "cell_type": "markdown",
   "metadata": {},
   "source": [
    "# Prosedur dan Fungsi"
   ]
  },
  {
   "cell_type": "markdown",
   "metadata": {},
   "source": [
    "Perbedaan dasar antara prosedur dan fungsi adalah fungsi memiliki nilai balikan / return sedangkan prosedur tidak, di python kita mendeklarasikan keduanya dengan def"
   ]
  },
  {
   "cell_type": "code",
   "execution_count": 36,
   "metadata": {},
   "outputs": [
    {
     "name": "stdout",
     "output_type": "stream",
     "text": [
      "12\n"
     ]
    }
   ],
   "source": [
    "def prosedurini(x):\n",
    "    print(x+2)\n",
    "prosedurini(10)"
   ]
  },
  {
   "cell_type": "code",
   "execution_count": 37,
   "metadata": {},
   "outputs": [
    {
     "name": "stdout",
     "output_type": "stream",
     "text": [
      "41\n"
     ]
    }
   ],
   "source": [
    "def fungsiitu(x):\n",
    "    return x*2+1\n",
    "print(fungsiitu(20))"
   ]
  },
  {
   "cell_type": "markdown",
   "metadata": {},
   "source": [
    "# Import Library Tambahan"
   ]
  },
  {
   "cell_type": "code",
   "execution_count": 40,
   "metadata": {},
   "outputs": [],
   "source": [
    "import numpy as np #mengimpor library numpy dan memberikan alias np\n",
    "import math\n",
    "import calendar as c"
   ]
  },
  {
   "cell_type": "code",
   "execution_count": 41,
   "metadata": {},
   "outputs": [
    {
     "name": "stdout",
     "output_type": "stream",
     "text": [
      "January\n"
     ]
    }
   ],
   "source": [
    "print(c.month_name[1])"
   ]
  }
 ],
 "metadata": {
  "kernelspec": {
   "display_name": "Python 3",
   "language": "python",
   "name": "python3"
  },
  "language_info": {
   "codemirror_mode": {
    "name": "ipython",
    "version": 3
   },
   "file_extension": ".py",
   "mimetype": "text/x-python",
   "name": "python",
   "nbconvert_exporter": "python",
   "pygments_lexer": "ipython3",
   "version": "3.7.3"
  }
 },
 "nbformat": 4,
 "nbformat_minor": 2
}
