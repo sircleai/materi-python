{
 "cells": [
  {
   "cell_type": "markdown",
   "metadata": {},
   "source": [
    "Diberikan suatu bilangan bulat, buatlah fungsi untuk mendeteksi apakah dalam bilangan tersebut ada bilangan 1 atau tidak<br>\n",
    "Contoh :<br>\n",
    "input : 1001<br>\n",
    "output : Ada"
   ]
  },
  {
   "cell_type": "code",
   "execution_count": null,
   "metadata": {},
   "outputs": [],
   "source": []
  },
  {
   "cell_type": "markdown",
   "metadata": {},
   "source": [
    "Diberikan suatu bilangan bulat, buatlah fungsi yang mengembalikan banyaknya angka 2 didalam bilangan tersebut<br>\n",
    "Contoh:<br>\n",
    "Input: 222<br>\n",
    "Output: 3"
   ]
  },
  {
   "cell_type": "code",
   "execution_count": null,
   "metadata": {},
   "outputs": [],
   "source": []
  },
  {
   "cell_type": "markdown",
   "metadata": {},
   "source": [
    "Hitunglah jumlah dari seluruh bilangan dari 1 hingga 100, namun jika ada angka 3 dalam suatu bilangan, jangan jumlahkan bilangan tersebut"
   ]
  },
  {
   "cell_type": "code",
   "execution_count": null,
   "metadata": {},
   "outputs": [],
   "source": []
  }
 ],
 "metadata": {
  "kernelspec": {
   "display_name": "Python 3",
   "language": "python",
   "name": "python3"
  },
  "language_info": {
   "codemirror_mode": {
    "name": "ipython",
    "version": 3
   },
   "file_extension": ".py",
   "mimetype": "text/x-python",
   "name": "python",
   "nbconvert_exporter": "python",
   "pygments_lexer": "ipython3",
   "version": "3.7.3"
  }
 },
 "nbformat": 4,
 "nbformat_minor": 2
}
